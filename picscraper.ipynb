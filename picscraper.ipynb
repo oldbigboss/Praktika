{
 "cells": [
  {
   "cell_type": "code",
   "execution_count": 12,
   "metadata": {
    "collapsed": true
   },
   "outputs": [],
   "source": [
    "import requests\n",
    "url = \" http://scikit-learn.org/stable/tutorial/statistical_inference/supervised_learning.html\"\n",
    "r = requests.get(url)\n"
   ]
  },
  {
   "cell_type": "code",
   "execution_count": 14,
   "outputs": [
    {
     "name": "stdout",
     "output_type": "stream",
     "text": [
      "https://scikit-learn.org/stable/_static/scikit-learn-logo-small.png\n",
      "https://scikit-learn.org/stable/_static/scikit-learn-logo-small.png\n",
      "https://scikit-learn.org/stable/_images/sphx_glr_plot_iris_dataset_001.png\n",
      "https://scikit-learn.org/stable/_images/sphx_glr_plot_classification_001.png\n",
      "https://scikit-learn.org/stable/_images/sphx_glr_plot_ols_001.png\n",
      "https://scikit-learn.org/stable/_images/sphx_glr_plot_ols_ridge_variance_001.png\n",
      "https://scikit-learn.org/stable/_images/sphx_glr_plot_ols_ridge_variance_002.png\n",
      "https://scikit-learn.org/stable/_images/sphx_glr_plot_ols_3d_001.png\n",
      "https://scikit-learn.org/stable/_images/sphx_glr_plot_ols_3d_003.png\n",
      "https://scikit-learn.org/stable/_images/sphx_glr_plot_ols_3d_002.png\n",
      "https://scikit-learn.org/stable/_images/sphx_glr_plot_logistic_001.png\n",
      "https://scikit-learn.org/stable/_images/sphx_glr_plot_iris_logistic_001.png\n",
      "https://scikit-learn.org/stable/_images/sphx_glr_plot_svm_margin_001.png\n",
      "https://scikit-learn.org/stable/_images/sphx_glr_plot_svm_margin_002.png\n",
      "https://scikit-learn.org/stable/_images/sphx_glr_plot_svm_kernels_001.png\n",
      "https://scikit-learn.org/stable/_images/sphx_glr_plot_svm_kernels_002.png\n",
      "https://scikit-learn.org/stable/_images/sphx_glr_plot_svm_kernels_003.png\n",
      "https://scikit-learn.org/stable/_images/sphx_glr_plot_iris_dataset_001.png\n"
     ]
    }
   ],
   "source": [
    "from bs4 import BeautifulSoup\n",
    "soup = BeautifulSoup(r.text)\n",
    "images = soup.findAll('img')\n",
    "for image in images:\n",
    "    #print image source\n",
    "    print('https://scikit-learn.org/stable'+image['src'][5:])\n"
   ],
   "metadata": {
    "collapsed": false,
    "pycharm": {
     "name": "#%%\n"
    }
   }
  },
  {
   "cell_type": "code",
   "execution_count": 19,
   "outputs": [],
   "source": [
    "import random\n",
    "from PIL import Image\n",
    "\n",
    "i = random.randint(0, len(images)-1)\n",
    "p = requests.get('https://scikit-learn.org/stable'+image['src'][5:])\n",
    "\n",
    "out = open(\"C:\\\\Users\\\\Alex\\\\PycharmProjects\\\\TVEx\\\\img.jpg\", \"wb\")\n",
    "out.write(p.content)\n",
    "out.close()\n",
    "img = Image.open(\"C:\\\\Users\\\\Alex\\\\PycharmProjects\\\\TVEx\\\\img.jpg\")\n",
    "img.show()\n"
   ],
   "metadata": {
    "collapsed": false,
    "pycharm": {
     "name": "#%%\n"
    }
   }
  }
 ],
 "metadata": {
  "kernelspec": {
   "display_name": "Python 3",
   "language": "python",
   "name": "python3"
  },
  "language_info": {
   "codemirror_mode": {
    "name": "ipython",
    "version": 2
   },
   "file_extension": ".py",
   "mimetype": "text/x-python",
   "name": "python",
   "nbconvert_exporter": "python",
   "pygments_lexer": "ipython2",
   "version": "2.7.6"
  }
 },
 "nbformat": 4,
 "nbformat_minor": 0
}